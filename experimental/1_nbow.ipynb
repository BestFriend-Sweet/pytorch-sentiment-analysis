{
  "nbformat": 4,
  "nbformat_minor": 0,
  "metadata": {
    "kernelspec": {
      "display_name": "Python 3",
      "language": "python",
      "name": "python3"
    },
    "language_info": {
      "codemirror_mode": {
        "name": "ipython",
        "version": 3
      },
      "file_extension": ".py",
      "mimetype": "text/x-python",
      "name": "python",
      "nbconvert_exporter": "python",
      "pygments_lexer": "ipython3",
      "version": "3.8.5"
    },
    "colab": {
      "name": "1_nbow.ipynb",
      "provenance": [],
      "machine_shape": "hm"
    },
    "accelerator": "GPU"
  },
  "cells": [
    {
      "cell_type": "code",
      "metadata": {
        "id": "-V90fMxJdFl7",
        "colab_type": "code",
        "colab": {
          "base_uri": "https://localhost:8080/",
          "height": 228
        },
        "outputId": "2bbc3f28-84e3-47bd-97a2-ea0c2f0cf395"
      },
      "source": [
        "!pip install torchtext --upgrade\n",
        "\n",
        "import torch\n",
        "import torch.nn as nn\n",
        "import torch.optim as optim\n",
        "\n",
        "import torchtext\n",
        "import torchtext.experimental\n",
        "import torchtext.experimental.vectors\n",
        "from torchtext.experimental.datasets.raw.text_classification import RawTextIterableDataset\n",
        "from torchtext.experimental.datasets.text_classification import TextClassificationDataset\n",
        "from torchtext.experimental.functional import sequential_transforms, vocab_func, totensor\n",
        "\n",
        "import collections\n",
        "import random\n",
        "import time"
      ],
      "execution_count": 1,
      "outputs": [
        {
          "output_type": "stream",
          "text": [
            "Requirement already up-to-date: torchtext in /usr/local/lib/python3.6/dist-packages (0.7.0)\n",
            "Requirement already satisfied, skipping upgrade: sentencepiece in /usr/local/lib/python3.6/dist-packages (from torchtext) (0.1.91)\n",
            "Requirement already satisfied, skipping upgrade: requests in /usr/local/lib/python3.6/dist-packages (from torchtext) (2.23.0)\n",
            "Requirement already satisfied, skipping upgrade: numpy in /usr/local/lib/python3.6/dist-packages (from torchtext) (1.18.5)\n",
            "Requirement already satisfied, skipping upgrade: tqdm in /usr/local/lib/python3.6/dist-packages (from torchtext) (4.41.1)\n",
            "Requirement already satisfied, skipping upgrade: torch in /usr/local/lib/python3.6/dist-packages (from torchtext) (1.6.0+cu101)\n",
            "Requirement already satisfied, skipping upgrade: idna<3,>=2.5 in /usr/local/lib/python3.6/dist-packages (from requests->torchtext) (2.10)\n",
            "Requirement already satisfied, skipping upgrade: chardet<4,>=3.0.2 in /usr/local/lib/python3.6/dist-packages (from requests->torchtext) (3.0.4)\n",
            "Requirement already satisfied, skipping upgrade: certifi>=2017.4.17 in /usr/local/lib/python3.6/dist-packages (from requests->torchtext) (2020.6.20)\n",
            "Requirement already satisfied, skipping upgrade: urllib3!=1.25.0,!=1.25.1,<1.26,>=1.21.1 in /usr/local/lib/python3.6/dist-packages (from requests->torchtext) (1.24.3)\n",
            "Requirement already satisfied, skipping upgrade: future in /usr/local/lib/python3.6/dist-packages (from torch->torchtext) (0.16.0)\n"
          ],
          "name": "stdout"
        }
      ]
    },
    {
      "cell_type": "code",
      "metadata": {
        "id": "tOO7b-Z1dFmA",
        "colab_type": "code",
        "colab": {}
      },
      "source": [
        "seed = 1234\n",
        "\n",
        "torch.manual_seed(seed)\n",
        "random.seed(seed)\n",
        "torch.backends.cudnn.deterministic = True\n",
        "torch.backends.cudnn.benchmark = False"
      ],
      "execution_count": 2,
      "outputs": []
    },
    {
      "cell_type": "code",
      "metadata": {
        "id": "FhBXG95YdFmD",
        "colab_type": "code",
        "colab": {}
      },
      "source": [
        "raw_train_data, raw_test_data = torchtext.experimental.datasets.raw.IMDB()"
      ],
      "execution_count": 3,
      "outputs": []
    },
    {
      "cell_type": "code",
      "metadata": {
        "id": "y-yPGXY_dFmH",
        "colab_type": "code",
        "colab": {
          "base_uri": "https://localhost:8080/",
          "height": 35
        },
        "outputId": "3b6e5a98-f073-4281-8ff7-0ec873c059ae"
      },
      "source": [
        "print(raw_train_data)"
      ],
      "execution_count": 4,
      "outputs": [
        {
          "output_type": "stream",
          "text": [
            "<torchtext.experimental.datasets.raw.text_classification.RawTextIterableDataset object at 0x7fe56e6390b8>\n"
          ],
          "name": "stdout"
        }
      ]
    },
    {
      "cell_type": "code",
      "metadata": {
        "id": "UXWtJbsXdFmO",
        "colab_type": "code",
        "colab": {
          "base_uri": "https://localhost:8080/",
          "height": 55
        },
        "outputId": "b6f80eb7-4b91-4188-a800-c328067f339e"
      },
      "source": [
        "raw_train_data = list(raw_train_data)\n",
        "\n",
        "print(raw_train_data[0])"
      ],
      "execution_count": 5,
      "outputs": [
        {
          "output_type": "stream",
          "text": [
            "(0, 'I rented I AM CURIOUS-YELLOW from my video store because of all the controversy that surrounded it when it was first released in 1967. I also heard that at first it was seized by U.S. customs if it ever tried to enter this country, therefore being a fan of films considered \"controversial\" I really had to see this for myself.<br /><br />The plot is centered around a young Swedish drama student named Lena who wants to learn everything she can about life. In particular she wants to focus her attentions to making some sort of documentary on what the average Swede thought about certain political issues such as the Vietnam War and race issues in the United States. In between asking politicians and ordinary denizens of Stockholm about their opinions on politics, she has sex with her drama teacher, classmates, and married men.<br /><br />What kills me about I AM CURIOUS-YELLOW is that 40 years ago, this was considered pornographic. Really, the sex and nudity scenes are few and far between, even then it\\'s not shot like some cheaply made porno. While my countrymen mind find it shocking, in reality sex and nudity are a major staple in Swedish cinema. Even Ingmar Bergman, arguably their answer to good old boy John Ford, had sex scenes in his films.<br /><br />I do commend the filmmakers for the fact that any sex shown in the film is shown for artistic purposes rather than just to shock people and make money to be shown in pornographic theaters in America. I AM CURIOUS-YELLOW is a good film for anyone wanting to study the meat and potatoes (no pun intended) of Swedish cinema. But really, this film doesn\\'t have much of a plot.')\n"
          ],
          "name": "stdout"
        }
      ]
    },
    {
      "cell_type": "code",
      "metadata": {
        "id": "B2HoQ4VOdFmS",
        "colab_type": "code",
        "colab": {
          "base_uri": "https://localhost:8080/",
          "height": 55
        },
        "outputId": "b63ed1a5-82b8-4bf9-c590-82a371e1ec84"
      },
      "source": [
        "raw_test_data = list(raw_test_data)\n",
        "\n",
        "print(raw_test_data[0])"
      ],
      "execution_count": 6,
      "outputs": [
        {
          "output_type": "stream",
          "text": [
            "(0, 'I love sci-fi and am willing to put up with a lot. Sci-fi movies/TV are usually underfunded, under-appreciated and misunderstood. I tried to like this, I really did, but it is to good TV sci-fi as Babylon 5 is to Star Trek (the original). Silly prosthetics, cheap cardboard sets, stilted dialogues, CG that doesn\\'t match the background, and painfully one-dimensional characters cannot be overcome with a \\'sci-fi\\' setting. (I\\'m sure there are those of you out there who think Babylon 5 is good sci-fi TV. It\\'s not. It\\'s clichéd and uninspiring.) While US viewers might like emotion and character development, sci-fi is a genre that does not take itself seriously (cf. Star Trek). It may treat important issues, yet not as a serious philosophy. It\\'s really difficult to care about the characters here as they are not simply foolish, just missing a spark of life. Their actions and reactions are wooden and predictable, often painful to watch. The makers of Earth KNOW it\\'s rubbish as they have to always say \"Gene Roddenberry\\'s Earth...\" otherwise people would not continue watching. Roddenberry\\'s ashes must be turning in their orbit as this dull, cheap, poorly edited (watching it without advert breaks really brings this home) trudging Trabant of a show lumbers into space. Spoiler. So, kill off a main character. And then bring him back as another actor. Jeeez! Dallas all over again.')\n"
          ],
          "name": "stdout"
        }
      ]
    },
    {
      "cell_type": "code",
      "metadata": {
        "id": "Tq8DjZTzdFmU",
        "colab_type": "code",
        "colab": {
          "base_uri": "https://localhost:8080/",
          "height": 52
        },
        "outputId": "2aeab986-6922-4a28-ad2f-507282ceb60f"
      },
      "source": [
        "print(f'Number of training examples: {len(raw_train_data):,}')\n",
        "print(f'Number of testing examples: {len(raw_test_data):,}')"
      ],
      "execution_count": 7,
      "outputs": [
        {
          "output_type": "stream",
          "text": [
            "Number of training examples: 25,000\n",
            "Number of testing examples: 25,000\n"
          ],
          "name": "stdout"
        }
      ]
    },
    {
      "cell_type": "code",
      "metadata": {
        "id": "rOTczrIEdFmY",
        "colab_type": "code",
        "colab": {}
      },
      "source": [
        "def get_train_valid_split(raw_train_data, split_ratio = 0.8):\n",
        "\n",
        "    raw_train_data = list(raw_train_data)\n",
        "        \n",
        "    random.shuffle(raw_train_data)\n",
        "        \n",
        "    n_train_examples = int(len(raw_train_data) * split_ratio)\n",
        "        \n",
        "    train_data = raw_train_data[:n_train_examples]\n",
        "    valid_data = raw_train_data[n_train_examples:]\n",
        "    \n",
        "    train_data = RawTextIterableDataset(train_data)\n",
        "    valid_data = RawTextIterableDataset(valid_data)\n",
        "    \n",
        "    return train_data, valid_data"
      ],
      "execution_count": 8,
      "outputs": []
    },
    {
      "cell_type": "code",
      "metadata": {
        "id": "C6Tp4CyQdFma",
        "colab_type": "code",
        "colab": {}
      },
      "source": [
        "raw_train_data, raw_valid_data = get_train_valid_split(raw_train_data)"
      ],
      "execution_count": 9,
      "outputs": []
    },
    {
      "cell_type": "code",
      "metadata": {
        "id": "iS9aLR8rdFmc",
        "colab_type": "code",
        "colab": {}
      },
      "source": [
        "raw_train_data = list(raw_train_data)\n",
        "raw_valid_data = list(raw_valid_data)"
      ],
      "execution_count": 10,
      "outputs": []
    },
    {
      "cell_type": "code",
      "metadata": {
        "id": "yzEGgkz5dFmf",
        "colab_type": "code",
        "colab": {
          "base_uri": "https://localhost:8080/",
          "height": 69
        },
        "outputId": "8e1cd5a4-76cd-492c-c387-65604dba13c1"
      },
      "source": [
        "print(f'Number of training examples: {len(raw_train_data):,}')\n",
        "print(f'Number of validation examples: {len(raw_valid_data):,}')\n",
        "print(f'Number of testing examples: {len(raw_test_data):,}')"
      ],
      "execution_count": 11,
      "outputs": [
        {
          "output_type": "stream",
          "text": [
            "Number of training examples: 20,000\n",
            "Number of validation examples: 5,000\n",
            "Number of testing examples: 25,000\n"
          ],
          "name": "stdout"
        }
      ]
    },
    {
      "cell_type": "code",
      "metadata": {
        "id": "LTJjCocRdFmh",
        "colab_type": "code",
        "colab": {}
      },
      "source": [
        "class Tokenizer:\n",
        "    def __init__(self, tokenize_fn = 'basic_english', lower = True, max_length = None):\n",
        "        \n",
        "        self.tokenize_fn = torchtext.data.utils.get_tokenizer(tokenize_fn)\n",
        "        self.lower = lower\n",
        "        self.max_length = max_length\n",
        "        \n",
        "    def tokenize(self, s):\n",
        "        \n",
        "        tokens = self.tokenize_fn(s)\n",
        "        \n",
        "        if self.lower:\n",
        "            tokens = [token.lower() for token in tokens]\n",
        "            \n",
        "        if self.max_length is not None:\n",
        "            tokens = tokens[:max_length]\n",
        "            \n",
        "        return tokens"
      ],
      "execution_count": 12,
      "outputs": []
    },
    {
      "cell_type": "code",
      "metadata": {
        "id": "5P2KumuDdFmj",
        "colab_type": "code",
        "colab": {}
      },
      "source": [
        "max_length = 250\n",
        "\n",
        "tokenizer = Tokenizer(max_length = max_length)"
      ],
      "execution_count": 13,
      "outputs": []
    },
    {
      "cell_type": "code",
      "metadata": {
        "id": "V1albCvadFmm",
        "colab_type": "code",
        "colab": {
          "base_uri": "https://localhost:8080/",
          "height": 35
        },
        "outputId": "5c7c30f2-c6b7-4098-990d-7bfcdc2446f1"
      },
      "source": [
        "s = \"this film is terrible. i hate it and it's bad!\"\n",
        "\n",
        "print(tokenizer.tokenize(s))"
      ],
      "execution_count": 14,
      "outputs": [
        {
          "output_type": "stream",
          "text": [
            "['this', 'film', 'is', 'terrible', '.', 'i', 'hate', 'it', 'and', 'it', \"'\", 's', 'bad', '!']\n"
          ],
          "name": "stdout"
        }
      ]
    },
    {
      "cell_type": "code",
      "metadata": {
        "id": "anC7_ViodFmp",
        "colab_type": "code",
        "colab": {}
      },
      "source": [
        "def build_vocab_from_data(raw_data, tokenizer, **vocab_kwargs):\n",
        "    \n",
        "    token_freqs = collections.Counter()\n",
        "    \n",
        "    for label, text in raw_data:\n",
        "        tokens = tokenizer.tokenize(text)\n",
        "        token_freqs.update(tokens)\n",
        "                \n",
        "    vocab = torchtext.vocab.Vocab(token_freqs, **vocab_kwargs)\n",
        "    \n",
        "    return vocab"
      ],
      "execution_count": 15,
      "outputs": []
    },
    {
      "cell_type": "code",
      "metadata": {
        "id": "rgHPS1xzdFmt",
        "colab_type": "code",
        "colab": {}
      },
      "source": [
        "min_freq = 2\n",
        "max_size = 25_000\n",
        "\n",
        "vocab = build_vocab_from_data(raw_train_data, tokenizer, min_freq = min_freq, max_size = max_size)"
      ],
      "execution_count": 16,
      "outputs": []
    },
    {
      "cell_type": "code",
      "metadata": {
        "id": "PsRQLrlddFmw",
        "colab_type": "code",
        "colab": {
          "base_uri": "https://localhost:8080/",
          "height": 364
        },
        "outputId": "5357c17c-b0ba-429d-b675-aa3fd9c39b72"
      },
      "source": [
        "vocab.freqs.most_common(20)"
      ],
      "execution_count": 17,
      "outputs": [
        {
          "output_type": "execute_result",
          "data": {
            "text/plain": [
              "[('the', 189116),\n",
              " ('.', 188121),\n",
              " (',', 153127),\n",
              " ('a', 93793),\n",
              " ('and', 92021),\n",
              " ('of', 82137),\n",
              " ('to', 74996),\n",
              " (\"'\", 73288),\n",
              " ('is', 61511),\n",
              " ('it', 56770),\n",
              " ('i', 55777),\n",
              " ('in', 52098),\n",
              " ('this', 46729),\n",
              " ('that', 40676),\n",
              " ('s', 33495),\n",
              " ('was', 29882),\n",
              " ('movie', 27993),\n",
              " ('as', 25564),\n",
              " ('with', 24610),\n",
              " ('for', 24381)]"
            ]
          },
          "metadata": {
            "tags": []
          },
          "execution_count": 17
        }
      ]
    },
    {
      "cell_type": "code",
      "metadata": {
        "id": "FGS5tZKmdFmy",
        "colab_type": "code",
        "colab": {
          "base_uri": "https://localhost:8080/",
          "height": 35
        },
        "outputId": "5304c151-6696-4d2e-bd4e-ac9cfb2e3f23"
      },
      "source": [
        "vocab.itos[:10]"
      ],
      "execution_count": 18,
      "outputs": [
        {
          "output_type": "execute_result",
          "data": {
            "text/plain": [
              "['<unk>', '<pad>', 'the', '.', ',', 'a', 'and', 'of', 'to', \"'\"]"
            ]
          },
          "metadata": {
            "tags": []
          },
          "execution_count": 18
        }
      ]
    },
    {
      "cell_type": "code",
      "metadata": {
        "id": "izsoXluedFm3",
        "colab_type": "code",
        "colab": {
          "base_uri": "https://localhost:8080/",
          "height": 35
        },
        "outputId": "1ab77cea-612b-4d86-cca3-5273f0964fbe"
      },
      "source": [
        "vocab.stoi['the']"
      ],
      "execution_count": 19,
      "outputs": [
        {
          "output_type": "execute_result",
          "data": {
            "text/plain": [
              "2"
            ]
          },
          "metadata": {
            "tags": []
          },
          "execution_count": 19
        }
      ]
    },
    {
      "cell_type": "code",
      "metadata": {
        "id": "xiW0GItTdFm6",
        "colab_type": "code",
        "colab": {}
      },
      "source": [
        "def process_raw_data(raw_data, tokenizer, vocab):\n",
        "    \n",
        "    raw_data = [(label, text) for (label, text) in raw_data]\n",
        "\n",
        "    text_transform = sequential_transforms(tokenizer.tokenize,\n",
        "                                           vocab_func(vocab),\n",
        "                                           totensor(dtype=torch.long))\n",
        "    \n",
        "    label_transform = sequential_transforms(totensor(dtype=torch.long))\n",
        "\n",
        "    transforms = (label_transform, text_transform)\n",
        "\n",
        "    dataset = TextClassificationDataset(raw_data,\n",
        "                                        vocab,\n",
        "                                        transforms)\n",
        "    \n",
        "    return dataset"
      ],
      "execution_count": 20,
      "outputs": []
    },
    {
      "cell_type": "code",
      "metadata": {
        "id": "LCslagnudFm8",
        "colab_type": "code",
        "colab": {}
      },
      "source": [
        "train_data = process_raw_data(raw_train_data, tokenizer, vocab)"
      ],
      "execution_count": 21,
      "outputs": []
    },
    {
      "cell_type": "code",
      "metadata": {
        "id": "FDsGUUeydFm_",
        "colab_type": "code",
        "colab": {
          "base_uri": "https://localhost:8080/",
          "height": 416
        },
        "outputId": "848655ba-b5b2-4307-ca5b-a827200fdef2"
      },
      "source": [
        "label, indexes = train_data[0]\n",
        "\n",
        "print(indexes)"
      ],
      "execution_count": 22,
      "outputs": [
        {
          "output_type": "stream",
          "text": [
            "tensor([  588,  7875,    10,     5,    58,   211,     6,     5,    58,     0,\n",
            "          170,     3,    32,    80,    18,     9,   329,     7,  1480,     9,\n",
            "           17,     2,    34,    12,   388,   122,     4,     6,    11,   277,\n",
            "            5,   200,     7,   116,    20,   113,   654,  1791,     7,   125,\n",
            "         1453,    19,    39,    88,    96,  2494,  1109,     4,     6,    43,\n",
            "          134,     2,  1791,     7,     2,   490,     3,    43,    10,     9,\n",
            "         5697,     9,    76,    44,     2,   421,   515,     8,   277,     2,\n",
            "          364,     7,     2,   490,     8,     2,   599,   829,   441,     3,\n",
            "            2,  4172,   113,    30,   120,  1982,     4,    34,  2865,     6,\n",
            "           34,  2320,    42,   883,    20,     5, 19273,  5565,  1642,     3,\n",
            "            2,   568,     7,    41,   166,  2865,  2092,  1895,    42,  1450,\n",
            "            8,    35,    41,  2074,  2421,     7,     2,  6348,  6215,   337,\n",
            "        21887,     2,  2865,  2242,    13,     2,   364,     6,   545,     7,\n",
            "            2,  2865,  1289,     3,    14,    10,    75,     2,  1585,     7,\n",
            "            2,    23,    30,     2,    62,   611,     3,     2,  1779,     7,\n",
            "         7591,    10,  2380,     6,   264,     8,   260,     4,     2,   562,\n",
            "            7,  2865,     0,    10, 11372,     4,     6,     2,   102,     2,\n",
            "         1289,   934,  2528,     8,     2,   595,  1126,  6171,    10,  1108,\n",
            "            3,     2,   146,     7,     2,    23,   434,    10,     0,  1389,\n",
            "            4,    22,  8882,    44,     5,   447,   974,  1791,     3,   895,\n",
            "         8959,     6,   885,  3832,   210,   579,   370,     4,    22,     2,\n",
            "         1585,     7,     2,    64,    30,   108,  3818,     8,    35,   737,\n",
            "        13681,     3])\n"
          ],
          "name": "stdout"
        }
      ]
    },
    {
      "cell_type": "code",
      "metadata": {
        "id": "nXOay2JUdFnB",
        "colab_type": "code",
        "colab": {
          "base_uri": "https://localhost:8080/",
          "height": 55
        },
        "outputId": "148242f9-c657-46be-e71d-c7503f662fc9"
      },
      "source": [
        "print([vocab.itos[i] for i in indexes])"
      ],
      "execution_count": 23,
      "outputs": [
        {
          "output_type": "stream",
          "text": [
            "['david', 'mamet', 'is', 'a', 'very', 'interesting', 'and', 'a', 'very', '<unk>', 'director', '.', 'his', 'first', 'movie', \"'\", 'house', 'of', 'games', \"'\", 'was', 'the', 'one', 'i', 'liked', 'best', ',', 'and', 'it', 'set', 'a', 'series', 'of', 'films', 'with', 'characters', 'whose', 'perspective', 'of', 'life', 'changes', 'as', 'they', 'get', 'into', 'complicated', 'situations', ',', 'and', 'so', 'does', 'the', 'perspective', 'of', 'the', 'viewer', '.', 'so', 'is', \"'\", 'homicide', \"'\", 'which', 'from', 'the', 'title', 'tries', 'to', 'set', 'the', 'mind', 'of', 'the', 'viewer', 'to', 'the', 'usual', 'crime', 'drama', '.', 'the', 'principal', 'characters', 'are', 'two', 'cops', ',', 'one', 'jewish', 'and', 'one', 'irish', 'who', 'deal', 'with', 'a', 'racially', 'charged', 'area', '.', 'the', 'murder', 'of', 'an', 'old', 'jewish', 'shop', 'owner', 'who', 'proves', 'to', 'be', 'an', 'ancient', 'veteran', 'of', 'the', 'israeli', 'independence', 'war', 'triggers', 'the', 'jewish', 'identity', 'in', 'the', 'mind', 'and', 'heart', 'of', 'the', 'jewish', 'detective', '.', 'this', 'is', 'were', 'the', 'flaws', 'of', 'the', 'film', 'are', 'the', 'more', 'obvious', '.', 'the', 'process', 'of', 'awakening', 'is', 'theatrical', 'and', 'hard', 'to', 'believe', ',', 'the', 'group', 'of', 'jewish', '<unk>', 'is', 'operatic', ',', 'and', 'the', 'way', 'the', 'detective', 'eventually', 'walks', 'to', 'the', 'final', 'violent', 'confrontation', 'is', 'pathetic', '.', 'the', 'end', 'of', 'the', 'film', 'itself', 'is', '<unk>', 'smart', ',', 'but', 'disappoints', 'from', 'a', 'human', 'emotional', 'perspective', '.', 'joe', 'mantegna', 'and', 'william', 'macy', 'give', 'strong', 'performances', ',', 'but', 'the', 'flaws', 'of', 'the', 'story', 'are', 'too', 'evident', 'to', 'be', 'easily', 'compensated', '.']\n"
          ],
          "name": "stdout"
        }
      ]
    },
    {
      "cell_type": "code",
      "metadata": {
        "id": "4Rec_Wk6dFnD",
        "colab_type": "code",
        "colab": {}
      },
      "source": [
        "valid_data = process_raw_data(raw_valid_data, tokenizer, vocab)\n",
        "test_data = process_raw_data(raw_test_data, tokenizer, vocab)"
      ],
      "execution_count": 24,
      "outputs": []
    },
    {
      "cell_type": "code",
      "metadata": {
        "id": "egzlLweTdFnH",
        "colab_type": "code",
        "colab": {}
      },
      "source": [
        "class Collator:\n",
        "    def __init__(self, pad_idx):\n",
        "        \n",
        "        self.pad_idx = pad_idx\n",
        "        \n",
        "    def collate(self, batch):\n",
        "        \n",
        "        labels, text = zip(*batch)\n",
        "        \n",
        "        labels = torch.LongTensor(labels)\n",
        "        \n",
        "        text = nn.utils.rnn.pad_sequence(text, padding_value = self.pad_idx)\n",
        "        \n",
        "        return labels, text"
      ],
      "execution_count": 25,
      "outputs": []
    },
    {
      "cell_type": "code",
      "metadata": {
        "id": "TYLvjhoSdFnM",
        "colab_type": "code",
        "colab": {}
      },
      "source": [
        "pad_idx = vocab['<pad>']\n",
        "collator = Collator(pad_idx)"
      ],
      "execution_count": 26,
      "outputs": []
    },
    {
      "cell_type": "code",
      "metadata": {
        "id": "7Ly4l1I8dFnR",
        "colab_type": "code",
        "colab": {}
      },
      "source": [
        "batch_size = 128\n",
        "\n",
        "train_iterator = torch.utils.data.DataLoader(train_data, \n",
        "                                             batch_size, \n",
        "                                             shuffle = True, \n",
        "                                             collate_fn = collator.collate)\n",
        "\n",
        "valid_iterator = torch.utils.data.DataLoader(valid_data, \n",
        "                                             batch_size, \n",
        "                                             shuffle = False, \n",
        "                                             collate_fn = collator.collate)\n",
        "\n",
        "test_iterator = torch.utils.data.DataLoader(test_data, \n",
        "                                            batch_size, \n",
        "                                            shuffle = False, \n",
        "                                            collate_fn = collator.collate)"
      ],
      "execution_count": 27,
      "outputs": []
    },
    {
      "cell_type": "code",
      "metadata": {
        "id": "dbh38jHEdFnV",
        "colab_type": "code",
        "colab": {}
      },
      "source": [
        "class NBOW(nn.Module):\n",
        "    def __init__(self, input_dim, emb_dim, output_dim, pad_idx):\n",
        "        \n",
        "        super().__init__()\n",
        "        \n",
        "        self.embedding = nn.Embedding(input_dim, emb_dim, padding_idx = pad_idx)\n",
        "        self.fc = nn.Linear(emb_dim, output_dim)\n",
        "        \n",
        "    def forward(self, text):\n",
        "        \n",
        "        # text = [seq len, batch size]\n",
        "        \n",
        "        embedded = self.embedding(text)\n",
        "        \n",
        "        # embedded = [seq len, batch size, emb dim]\n",
        "        \n",
        "        pooled = embedded.mean(0)\n",
        "        \n",
        "        # pooled = [batch size, emb dim]\n",
        "        \n",
        "        prediction = self.fc(pooled)\n",
        "        \n",
        "        # prediction = [batch size, output dim]\n",
        "        \n",
        "        return prediction"
      ],
      "execution_count": 28,
      "outputs": []
    },
    {
      "cell_type": "code",
      "metadata": {
        "id": "Ga1nXhindFnZ",
        "colab_type": "code",
        "colab": {}
      },
      "source": [
        "input_dim = len(vocab)\n",
        "emb_dim = 100\n",
        "output_dim = 2\n",
        "\n",
        "model = NBOW(input_dim, emb_dim, output_dim, pad_idx)"
      ],
      "execution_count": 29,
      "outputs": []
    },
    {
      "cell_type": "code",
      "metadata": {
        "id": "UyIJC0tYdFnc",
        "colab_type": "code",
        "colab": {}
      },
      "source": [
        "def count_parameters(model):\n",
        "    return sum(p.numel() for p in model.parameters() if p.requires_grad)"
      ],
      "execution_count": 30,
      "outputs": []
    },
    {
      "cell_type": "code",
      "metadata": {
        "id": "1sJRLyewdFng",
        "colab_type": "code",
        "colab": {
          "base_uri": "https://localhost:8080/",
          "height": 35
        },
        "outputId": "e7e357e1-1cc7-4aa4-ff40-4d749209759d"
      },
      "source": [
        "print(f'The model has {count_parameters(model):,} trainable parameters')"
      ],
      "execution_count": 31,
      "outputs": [
        {
          "output_type": "stream",
          "text": [
            "The model has 2,500,402 trainable parameters\n"
          ],
          "name": "stdout"
        }
      ]
    },
    {
      "cell_type": "code",
      "metadata": {
        "id": "BPsihrZudFnl",
        "colab_type": "code",
        "colab": {}
      },
      "source": [
        "glove = torchtext.experimental.vectors.GloVe(name = '6B',\n",
        "                                             dim = emb_dim)"
      ],
      "execution_count": 32,
      "outputs": []
    },
    {
      "cell_type": "code",
      "metadata": {
        "id": "hUIoXGkpdFno",
        "colab_type": "code",
        "colab": {
          "base_uri": "https://localhost:8080/",
          "height": 243
        },
        "outputId": "b58af33d-b40f-4783-b997-8e85a0edc583"
      },
      "source": [
        "glove.vectors['the']"
      ],
      "execution_count": 33,
      "outputs": [
        {
          "output_type": "execute_result",
          "data": {
            "text/plain": [
              "tensor([-0.0382, -0.2449,  0.7281, -0.3996,  0.0832,  0.0440, -0.3914,  0.3344,\n",
              "        -0.5755,  0.0875,  0.2879, -0.0673,  0.3091, -0.2638, -0.1323, -0.2076,\n",
              "         0.3340, -0.3385, -0.3174, -0.4834,  0.1464, -0.3730,  0.3458,  0.0520,\n",
              "         0.4495, -0.4697,  0.0263, -0.5415, -0.1552, -0.1411, -0.0397,  0.2828,\n",
              "         0.1439,  0.2346, -0.3102,  0.0862,  0.2040,  0.5262,  0.1716, -0.0824,\n",
              "        -0.7179, -0.4153,  0.2033, -0.1276,  0.4137,  0.5519,  0.5791, -0.3348,\n",
              "        -0.3656, -0.5486, -0.0629,  0.2658,  0.3020,  0.9977, -0.8048, -3.0243,\n",
              "         0.0125, -0.3694,  2.2167,  0.7220, -0.2498,  0.9214,  0.0345,  0.4674,\n",
              "         1.1079, -0.1936, -0.0746,  0.2335, -0.0521, -0.2204,  0.0572, -0.1581,\n",
              "        -0.3080, -0.4162,  0.3797,  0.1501, -0.5321, -0.2055, -1.2526,  0.0716,\n",
              "         0.7056,  0.4974, -0.4206,  0.2615, -1.5380, -0.3022, -0.0734, -0.2831,\n",
              "         0.3710, -0.2522,  0.0162, -0.0171, -0.3898,  0.8742, -0.7257, -0.5106,\n",
              "        -0.5203, -0.1459,  0.8278,  0.2706])"
            ]
          },
          "metadata": {
            "tags": []
          },
          "execution_count": 33
        }
      ]
    },
    {
      "cell_type": "code",
      "metadata": {
        "id": "vz_X14INdFnq",
        "colab_type": "code",
        "colab": {
          "base_uri": "https://localhost:8080/",
          "height": 104
        },
        "outputId": "b41c1997-b970-4042-fab9-2d72f07540b0"
      },
      "source": [
        "glove.vectors['shoggoth']"
      ],
      "execution_count": 34,
      "outputs": [
        {
          "output_type": "execute_result",
          "data": {
            "text/plain": [
              "tensor([0., 0., 0., 0., 0., 0., 0., 0., 0., 0., 0., 0., 0., 0., 0., 0., 0., 0., 0., 0., 0., 0., 0., 0.,\n",
              "        0., 0., 0., 0., 0., 0., 0., 0., 0., 0., 0., 0., 0., 0., 0., 0., 0., 0., 0., 0., 0., 0., 0., 0.,\n",
              "        0., 0., 0., 0., 0., 0., 0., 0., 0., 0., 0., 0., 0., 0., 0., 0., 0., 0., 0., 0., 0., 0., 0., 0.,\n",
              "        0., 0., 0., 0., 0., 0., 0., 0., 0., 0., 0., 0., 0., 0., 0., 0., 0., 0., 0., 0., 0., 0., 0., 0.,\n",
              "        0., 0., 0., 0.])"
            ]
          },
          "metadata": {
            "tags": []
          },
          "execution_count": 34
        }
      ]
    },
    {
      "cell_type": "code",
      "metadata": {
        "id": "iBKvWWCwdFnu",
        "colab_type": "code",
        "colab": {
          "base_uri": "https://localhost:8080/",
          "height": 104
        },
        "outputId": "821572aa-2743-4b1e-a03d-afeb5387bd9f"
      },
      "source": [
        "glove.vectors['The']"
      ],
      "execution_count": 35,
      "outputs": [
        {
          "output_type": "execute_result",
          "data": {
            "text/plain": [
              "tensor([0., 0., 0., 0., 0., 0., 0., 0., 0., 0., 0., 0., 0., 0., 0., 0., 0., 0., 0., 0., 0., 0., 0., 0.,\n",
              "        0., 0., 0., 0., 0., 0., 0., 0., 0., 0., 0., 0., 0., 0., 0., 0., 0., 0., 0., 0., 0., 0., 0., 0.,\n",
              "        0., 0., 0., 0., 0., 0., 0., 0., 0., 0., 0., 0., 0., 0., 0., 0., 0., 0., 0., 0., 0., 0., 0., 0.,\n",
              "        0., 0., 0., 0., 0., 0., 0., 0., 0., 0., 0., 0., 0., 0., 0., 0., 0., 0., 0., 0., 0., 0., 0., 0.,\n",
              "        0., 0., 0., 0.])"
            ]
          },
          "metadata": {
            "tags": []
          },
          "execution_count": 35
        }
      ]
    },
    {
      "cell_type": "code",
      "metadata": {
        "id": "4BFftRDMdFnx",
        "colab_type": "code",
        "colab": {}
      },
      "source": [
        "def get_pretrained_embedding(vectors, vocab, unk_token):\n",
        "    \n",
        "    unk_vector = vectors[unk_token]\n",
        "    emb_dim = unk_vector.shape[-1]\n",
        "    zero_vector = torch.zeros(emb_dim)\n",
        "\n",
        "    pretrained_embedding = torch.zeros(len(vocab), emb_dim) \n",
        "    \n",
        "    unk_tokens = []\n",
        "    \n",
        "    for idx, token in enumerate(vocab.itos):\n",
        "        pretrained_vector = vectors[token]\n",
        "        if torch.all(torch.eq(pretrained_vector, unk_vector)):\n",
        "            unk_tokens.append(token)\n",
        "            pretrained_embedding[idx] = zero_vector\n",
        "        else:\n",
        "            pretrained_embedding[idx] = pretrained_vector\n",
        "        \n",
        "    return pretrained_embedding, unk_tokens"
      ],
      "execution_count": 36,
      "outputs": []
    },
    {
      "cell_type": "code",
      "metadata": {
        "id": "QRToW07JdFnz",
        "colab_type": "code",
        "colab": {}
      },
      "source": [
        "unk_token = '<unk>'\n",
        "\n",
        "pretrained_embedding, unk_tokens = get_pretrained_embedding(glove.vectors, vocab, unk_token)"
      ],
      "execution_count": 37,
      "outputs": []
    },
    {
      "cell_type": "code",
      "metadata": {
        "id": "YGO-9DWBdFn1",
        "colab_type": "code",
        "colab": {
          "base_uri": "https://localhost:8080/",
          "height": 139
        },
        "outputId": "fb8178fc-0f1c-43ba-b9a8-0b25ec343a54"
      },
      "source": [
        "pretrained_embedding"
      ],
      "execution_count": 38,
      "outputs": [
        {
          "output_type": "execute_result",
          "data": {
            "text/plain": [
              "tensor([[ 0.0000,  0.0000,  0.0000,  ...,  0.0000,  0.0000,  0.0000],\n",
              "        [ 0.0000,  0.0000,  0.0000,  ...,  0.0000,  0.0000,  0.0000],\n",
              "        [-0.0382, -0.2449,  0.7281,  ..., -0.1459,  0.8278,  0.2706],\n",
              "        ...,\n",
              "        [-0.4769,  0.6460, -0.2009,  ..., -0.2221, -0.2449,  0.8116],\n",
              "        [ 0.7019, -0.0129,  0.7528,  ..., -0.8730,  0.3202,  0.0773],\n",
              "        [-0.1876,  0.1964,  0.4381,  ...,  0.0729, -0.5052,  0.3773]])"
            ]
          },
          "metadata": {
            "tags": []
          },
          "execution_count": 38
        }
      ]
    },
    {
      "cell_type": "code",
      "metadata": {
        "id": "j36jzQpPdFn3",
        "colab_type": "code",
        "colab": {
          "base_uri": "https://localhost:8080/",
          "height": 35
        },
        "outputId": "7ebe041d-b092-498e-ea16-0fce8c20ed33"
      },
      "source": [
        "len(unk_tokens)"
      ],
      "execution_count": 39,
      "outputs": [
        {
          "output_type": "execute_result",
          "data": {
            "text/plain": [
              "661"
            ]
          },
          "metadata": {
            "tags": []
          },
          "execution_count": 39
        }
      ]
    },
    {
      "cell_type": "code",
      "metadata": {
        "id": "yzvhgf8tdFn5",
        "colab_type": "code",
        "colab": {
          "base_uri": "https://localhost:8080/",
          "height": 35
        },
        "outputId": "8c30dc4a-9a2b-4c11-8c7b-1d2cb3ba0aee"
      },
      "source": [
        "print(unk_tokens[:10])"
      ],
      "execution_count": 40,
      "outputs": [
        {
          "output_type": "stream",
          "text": [
            "['<unk>', '<pad>', '\\x96', '****', 'hadn', 'camera-work', '*1/2', '100%', '$1', '*****']\n"
          ],
          "name": "stdout"
        }
      ]
    },
    {
      "cell_type": "code",
      "metadata": {
        "id": "OKxH6f7ddFn8",
        "colab_type": "code",
        "colab": {
          "base_uri": "https://localhost:8080/",
          "height": 139
        },
        "outputId": "8ff8c71b-725e-417d-e3fa-7ffeac2e342d"
      },
      "source": [
        "model.embedding.weight.data"
      ],
      "execution_count": 41,
      "outputs": [
        {
          "output_type": "execute_result",
          "data": {
            "text/plain": [
              "tensor([[-0.1117, -0.4966,  0.1631,  ...,  1.5903, -0.1947, -0.2415],\n",
              "        [ 0.0000,  0.0000,  0.0000,  ...,  0.0000,  0.0000,  0.0000],\n",
              "        [ 0.7289, -0.7336,  1.5624,  ..., -0.5592, -0.4480, -0.6476],\n",
              "        ...,\n",
              "        [ 0.0914,  1.5196,  0.4670,  ...,  0.6393, -0.0332,  0.0185],\n",
              "        [-0.6290,  0.4650, -0.7165,  ..., -1.3171,  2.0381, -2.0497],\n",
              "        [-1.1222, -0.0240, -1.0878,  ..., -0.4948, -0.3874,  0.0339]])"
            ]
          },
          "metadata": {
            "tags": []
          },
          "execution_count": 41
        }
      ]
    },
    {
      "cell_type": "code",
      "metadata": {
        "id": "AnE6D4MAdFn_",
        "colab_type": "code",
        "colab": {
          "base_uri": "https://localhost:8080/",
          "height": 139
        },
        "outputId": "8b3fea1a-9bcb-4fd9-ba78-72baee94f96a"
      },
      "source": [
        "model.embedding.weight.data.copy_(pretrained_embedding)"
      ],
      "execution_count": 42,
      "outputs": [
        {
          "output_type": "execute_result",
          "data": {
            "text/plain": [
              "tensor([[ 0.0000,  0.0000,  0.0000,  ...,  0.0000,  0.0000,  0.0000],\n",
              "        [ 0.0000,  0.0000,  0.0000,  ...,  0.0000,  0.0000,  0.0000],\n",
              "        [-0.0382, -0.2449,  0.7281,  ..., -0.1459,  0.8278,  0.2706],\n",
              "        ...,\n",
              "        [-0.4769,  0.6460, -0.2009,  ..., -0.2221, -0.2449,  0.8116],\n",
              "        [ 0.7019, -0.0129,  0.7528,  ..., -0.8730,  0.3202,  0.0773],\n",
              "        [-0.1876,  0.1964,  0.4381,  ...,  0.0729, -0.5052,  0.3773]])"
            ]
          },
          "metadata": {
            "tags": []
          },
          "execution_count": 42
        }
      ]
    },
    {
      "cell_type": "code",
      "metadata": {
        "id": "DJloauERdFoF",
        "colab_type": "code",
        "colab": {}
      },
      "source": [
        "optimizer = optim.Adam(model.parameters())"
      ],
      "execution_count": 43,
      "outputs": []
    },
    {
      "cell_type": "code",
      "metadata": {
        "id": "fPPZ0cs_dFoH",
        "colab_type": "code",
        "colab": {}
      },
      "source": [
        "criterion = nn.CrossEntropyLoss()"
      ],
      "execution_count": 44,
      "outputs": []
    },
    {
      "cell_type": "code",
      "metadata": {
        "id": "HGUcFIupdFoK",
        "colab_type": "code",
        "colab": {
          "base_uri": "https://localhost:8080/",
          "height": 35
        },
        "outputId": "e5d9b842-689b-49ca-a4f4-08574f0524ee"
      },
      "source": [
        "device = torch.device('cuda' if torch.cuda.is_available() else 'cpu')\n",
        "\n",
        "print(f'Using: {device}')"
      ],
      "execution_count": 45,
      "outputs": [
        {
          "output_type": "stream",
          "text": [
            "Using: cuda\n"
          ],
          "name": "stdout"
        }
      ]
    },
    {
      "cell_type": "code",
      "metadata": {
        "id": "Ynf7j6kQdFoM",
        "colab_type": "code",
        "colab": {}
      },
      "source": [
        "model = model.to(device)\n",
        "criterion = criterion.to(device)"
      ],
      "execution_count": 46,
      "outputs": []
    },
    {
      "cell_type": "code",
      "metadata": {
        "id": "977iykeOdFoP",
        "colab_type": "code",
        "colab": {}
      },
      "source": [
        "def calculate_accuracy(predictions, labels):\n",
        "    top_predictions = predictions.argmax(1, keepdim = True)\n",
        "    correct = top_predictions.eq(labels.view_as(top_predictions)).sum()\n",
        "    accuracy = correct.float() / labels.shape[0]\n",
        "    return accuracy"
      ],
      "execution_count": 47,
      "outputs": []
    },
    {
      "cell_type": "code",
      "metadata": {
        "id": "HPNI8DJudFoS",
        "colab_type": "code",
        "colab": {}
      },
      "source": [
        "def train(model, iterator, optimizer, criterion, device):\n",
        "    \n",
        "    epoch_loss = 0\n",
        "    epoch_acc = 0\n",
        "    \n",
        "    model.train()\n",
        "    \n",
        "    for labels, text in iterator:\n",
        "        \n",
        "        labels = labels.to(device)\n",
        "        text = text.to(device)\n",
        "        \n",
        "        optimizer.zero_grad()\n",
        "        \n",
        "        predictions = model(text)\n",
        "        \n",
        "        loss = criterion(predictions, labels)\n",
        "        \n",
        "        acc = calculate_accuracy(predictions, labels)\n",
        "        \n",
        "        loss.backward()\n",
        "        \n",
        "        optimizer.step()\n",
        "        \n",
        "        epoch_loss += loss.item()\n",
        "        epoch_acc += acc.item()\n",
        "        \n",
        "    return epoch_loss / len(iterator), epoch_acc / len(iterator)"
      ],
      "execution_count": 48,
      "outputs": []
    },
    {
      "cell_type": "code",
      "metadata": {
        "id": "kp6pV5xKdFoV",
        "colab_type": "code",
        "colab": {}
      },
      "source": [
        "def evaluate(model, iterator, criterion, device):\n",
        "    \n",
        "    epoch_loss = 0\n",
        "    epoch_acc = 0\n",
        "    \n",
        "    model.eval()\n",
        "    \n",
        "    with torch.no_grad():\n",
        "    \n",
        "        for labels, text in iterator:\n",
        "\n",
        "            labels = labels.to(device)\n",
        "            text = text.to(device)\n",
        "            \n",
        "            predictions = model(text)\n",
        "            \n",
        "            loss = criterion(predictions, labels)\n",
        "            \n",
        "            acc = calculate_accuracy(predictions, labels)\n",
        "\n",
        "            epoch_loss += loss.item()\n",
        "            epoch_acc += acc.item()\n",
        "        \n",
        "    return epoch_loss / len(iterator), epoch_acc / len(iterator)"
      ],
      "execution_count": 49,
      "outputs": []
    },
    {
      "cell_type": "code",
      "metadata": {
        "id": "8YzL45gYdFoX",
        "colab_type": "code",
        "colab": {}
      },
      "source": [
        "def epoch_time(start_time, end_time):\n",
        "    elapsed_time = end_time - start_time\n",
        "    elapsed_mins = int(elapsed_time / 60)\n",
        "    elapsed_secs = int(elapsed_time - (elapsed_mins * 60))\n",
        "    return elapsed_mins, elapsed_secs"
      ],
      "execution_count": 50,
      "outputs": []
    },
    {
      "cell_type": "code",
      "metadata": {
        "id": "0A8wv7-xdFoa",
        "colab_type": "code",
        "colab": {
          "base_uri": "https://localhost:8080/",
          "height": 537
        },
        "outputId": "238f01bf-5438-482a-80ac-75c70cb20ed1"
      },
      "source": [
        "n_epochs = 10\n",
        "\n",
        "best_valid_loss = float('inf')\n",
        "\n",
        "for epoch in range(n_epochs):\n",
        "\n",
        "    start_time = time.monotonic()\n",
        "    \n",
        "    train_loss, train_acc = train(model, train_iterator, optimizer, criterion, device)\n",
        "    valid_loss, valid_acc = evaluate(model, valid_iterator, criterion, device)\n",
        "    \n",
        "    end_time = time.monotonic()\n",
        "\n",
        "    epoch_mins, epoch_secs = epoch_time(start_time, end_time)\n",
        "    \n",
        "    if valid_loss < best_valid_loss:\n",
        "        best_valid_loss = valid_loss\n",
        "        torch.save(model.state_dict(), 'nbow-model.pt')\n",
        "    \n",
        "    print(f'Epoch: {epoch+1:02} | Epoch Time: {epoch_mins}m {epoch_secs}s')\n",
        "    print(f'\\tTrain Loss: {train_loss:.3f} | Train Acc: {train_acc*100:.2f}%')\n",
        "    print(f'\\t Val. Loss: {valid_loss:.3f} |  Val. Acc: {valid_acc*100:.2f}%')"
      ],
      "execution_count": 51,
      "outputs": [
        {
          "output_type": "stream",
          "text": [
            "Epoch: 01 | Epoch Time: 0m 7s\n",
            "\tTrain Loss: 0.670 | Train Acc: 63.32%\n",
            "\t Val. Loss: 0.632 |  Val. Acc: 72.81%\n",
            "Epoch: 02 | Epoch Time: 0m 7s\n",
            "\tTrain Loss: 0.586 | Train Acc: 75.22%\n",
            "\t Val. Loss: 0.532 |  Val. Acc: 79.30%\n",
            "Epoch: 03 | Epoch Time: 0m 7s\n",
            "\tTrain Loss: 0.480 | Train Acc: 82.33%\n",
            "\t Val. Loss: 0.442 |  Val. Acc: 83.69%\n",
            "Epoch: 04 | Epoch Time: 0m 7s\n",
            "\tTrain Loss: 0.394 | Train Acc: 86.19%\n",
            "\t Val. Loss: 0.388 |  Val. Acc: 85.39%\n",
            "Epoch: 05 | Epoch Time: 0m 7s\n",
            "\tTrain Loss: 0.336 | Train Acc: 88.18%\n",
            "\t Val. Loss: 0.352 |  Val. Acc: 86.54%\n",
            "Epoch: 06 | Epoch Time: 0m 7s\n",
            "\tTrain Loss: 0.296 | Train Acc: 89.64%\n",
            "\t Val. Loss: 0.332 |  Val. Acc: 86.95%\n",
            "Epoch: 07 | Epoch Time: 0m 7s\n",
            "\tTrain Loss: 0.265 | Train Acc: 90.85%\n",
            "\t Val. Loss: 0.316 |  Val. Acc: 87.44%\n",
            "Epoch: 08 | Epoch Time: 0m 7s\n",
            "\tTrain Loss: 0.240 | Train Acc: 91.85%\n",
            "\t Val. Loss: 0.304 |  Val. Acc: 87.95%\n",
            "Epoch: 09 | Epoch Time: 0m 7s\n",
            "\tTrain Loss: 0.220 | Train Acc: 92.60%\n",
            "\t Val. Loss: 0.298 |  Val. Acc: 88.38%\n",
            "Epoch: 10 | Epoch Time: 0m 7s\n",
            "\tTrain Loss: 0.202 | Train Acc: 93.33%\n",
            "\t Val. Loss: 0.292 |  Val. Acc: 88.55%\n"
          ],
          "name": "stdout"
        }
      ]
    },
    {
      "cell_type": "code",
      "metadata": {
        "id": "oMHAuMFNdFoc",
        "colab_type": "code",
        "colab": {
          "base_uri": "https://localhost:8080/",
          "height": 35
        },
        "outputId": "58b32f9a-8c39-4818-b526-1a80e435f3ae"
      },
      "source": [
        "model.load_state_dict(torch.load('nbow-model.pt'))\n",
        "\n",
        "test_loss, test_acc = evaluate(model, test_iterator, criterion, device)\n",
        "\n",
        "print(f'Test Loss: {test_loss:.3f} | Test Acc: {test_acc*100:.2f}%')"
      ],
      "execution_count": 52,
      "outputs": [
        {
          "output_type": "stream",
          "text": [
            "Test Loss: 0.326 | Test Acc: 86.38%\n"
          ],
          "name": "stdout"
        }
      ]
    },
    {
      "cell_type": "code",
      "metadata": {
        "id": "sEDiSM3fdFog",
        "colab_type": "code",
        "colab": {}
      },
      "source": [
        "def predict_sentiment(tokenizer, vocab, model, device, sentence):\n",
        "    model.eval()\n",
        "    tokens = tokenizer.tokenize(sentence)\n",
        "    indexes = [vocab.stoi[token] for token in tokens]\n",
        "    tensor = torch.LongTensor(indexes).unsqueeze(-1).to(device)\n",
        "    prediction = model(tensor)\n",
        "    probabilities = nn.functional.softmax(prediction, dim = -1)\n",
        "    pos_probability = probabilities.squeeze()[-1].item()\n",
        "    return pos_probability"
      ],
      "execution_count": 53,
      "outputs": []
    },
    {
      "cell_type": "code",
      "metadata": {
        "id": "ycEAWhYIdFoi",
        "colab_type": "code",
        "colab": {
          "base_uri": "https://localhost:8080/",
          "height": 35
        },
        "outputId": "8a675641-fd79-46a6-b4e6-0b2006f866cc"
      },
      "source": [
        "sentence = 'the absolute worst movie of all time.'\n",
        "\n",
        "predict_sentiment(tokenizer, vocab, model, device, sentence)"
      ],
      "execution_count": 54,
      "outputs": [
        {
          "output_type": "execute_result",
          "data": {
            "text/plain": [
              "1.9899568104442267e-10"
            ]
          },
          "metadata": {
            "tags": []
          },
          "execution_count": 54
        }
      ]
    },
    {
      "cell_type": "code",
      "metadata": {
        "id": "cuMFqIoJdFok",
        "colab_type": "code",
        "colab": {
          "base_uri": "https://localhost:8080/",
          "height": 35
        },
        "outputId": "12c964fc-6788-459c-ad5e-ca0af366b1d4"
      },
      "source": [
        "sentence = 'one of the greatest films i have ever seen in my life.'\n",
        "\n",
        "predict_sentiment(tokenizer, vocab, model, device, sentence)"
      ],
      "execution_count": 55,
      "outputs": [
        {
          "output_type": "execute_result",
          "data": {
            "text/plain": [
              "0.9999610185623169"
            ]
          },
          "metadata": {
            "tags": []
          },
          "execution_count": 55
        }
      ]
    },
    {
      "cell_type": "code",
      "metadata": {
        "id": "zausUPENdFoo",
        "colab_type": "code",
        "colab": {
          "base_uri": "https://localhost:8080/",
          "height": 35
        },
        "outputId": "2bdd06df-dab7-47ea-8952-8bd82d39bac2"
      },
      "source": [
        "sentence = \"i thought it was going to be one of the greatest films i have ever seen in my life, \\\n",
        "but it was actually the absolute worst movie of all time.\"\n",
        "\n",
        "predict_sentiment(tokenizer, vocab, model, device, sentence)"
      ],
      "execution_count": 56,
      "outputs": [
        {
          "output_type": "execute_result",
          "data": {
            "text/plain": [
              "0.21951617300510406"
            ]
          },
          "metadata": {
            "tags": []
          },
          "execution_count": 56
        }
      ]
    },
    {
      "cell_type": "code",
      "metadata": {
        "id": "e15vpNJYdFor",
        "colab_type": "code",
        "colab": {
          "base_uri": "https://localhost:8080/",
          "height": 35
        },
        "outputId": "eed3ae38-d01a-4476-a235-8fd3582240f3"
      },
      "source": [
        "sentence = \"i thought it was going to be the absolute worst movie of all time, \\\n",
        "but it was actually one of the greatest films i have ever seen in my life.\"\n",
        "\n",
        "predict_sentiment(tokenizer, vocab, model, device, sentence)"
      ],
      "execution_count": 57,
      "outputs": [
        {
          "output_type": "execute_result",
          "data": {
            "text/plain": [
              "0.21951621770858765"
            ]
          },
          "metadata": {
            "tags": []
          },
          "execution_count": 57
        }
      ]
    }
  ]
}