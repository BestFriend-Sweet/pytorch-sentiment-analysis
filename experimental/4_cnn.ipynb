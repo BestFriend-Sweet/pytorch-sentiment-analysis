{
  "nbformat": 4,
  "nbformat_minor": 0,
  "metadata": {
    "accelerator": "GPU",
    "colab": {
      "name": "scratchpad",
      "provenance": [],
      "machine_shape": "hm"
    },
    "kernelspec": {
      "display_name": "Python 3",
      "language": "python",
      "name": "python3"
    },
    "language_info": {
      "codemirror_mode": {
        "name": "ipython",
        "version": 3
      },
      "file_extension": ".py",
      "mimetype": "text/x-python",
      "name": "python",
      "nbconvert_exporter": "python",
      "pygments_lexer": "ipython3",
      "version": "3.8.3"
    }
  },
  "cells": [
    {
      "cell_type": "code",
      "metadata": {
        "colab_type": "code",
        "id": "lIYdn1woOS1n",
        "colab": {
          "base_uri": "https://localhost:8080/",
          "height": 228
        },
        "outputId": "f9419fe4-7c0e-4706-a9b9-30fbc836d9a9"
      },
      "source": [
        "!pip install torchtext --upgrade\n",
        "\n",
        "import torch\n",
        "import torch.nn as nn\n",
        "import torch.nn.functional as F\n",
        "import torch.optim as optim\n",
        "\n",
        "import torchtext\n",
        "import torchtext.experimental\n",
        "import torchtext.experimental.vectors\n",
        "from torchtext.experimental.datasets.raw.text_classification import RawTextIterableDataset\n",
        "from torchtext.experimental.datasets.text_classification import TextClassificationDataset\n",
        "from torchtext.experimental.functional import sequential_transforms, vocab_func, totensor\n",
        "\n",
        "import collections\n",
        "import random\n",
        "import time"
      ],
      "execution_count": 1,
      "outputs": [
        {
          "output_type": "stream",
          "text": [
            "Requirement already up-to-date: torchtext in /usr/local/lib/python3.6/dist-packages (0.7.0)\n",
            "Requirement already satisfied, skipping upgrade: sentencepiece in /usr/local/lib/python3.6/dist-packages (from torchtext) (0.1.91)\n",
            "Requirement already satisfied, skipping upgrade: tqdm in /usr/local/lib/python3.6/dist-packages (from torchtext) (4.41.1)\n",
            "Requirement already satisfied, skipping upgrade: requests in /usr/local/lib/python3.6/dist-packages (from torchtext) (2.23.0)\n",
            "Requirement already satisfied, skipping upgrade: numpy in /usr/local/lib/python3.6/dist-packages (from torchtext) (1.18.5)\n",
            "Requirement already satisfied, skipping upgrade: torch in /usr/local/lib/python3.6/dist-packages (from torchtext) (1.6.0+cu101)\n",
            "Requirement already satisfied, skipping upgrade: certifi>=2017.4.17 in /usr/local/lib/python3.6/dist-packages (from requests->torchtext) (2020.6.20)\n",
            "Requirement already satisfied, skipping upgrade: idna<3,>=2.5 in /usr/local/lib/python3.6/dist-packages (from requests->torchtext) (2.10)\n",
            "Requirement already satisfied, skipping upgrade: urllib3!=1.25.0,!=1.25.1,<1.26,>=1.21.1 in /usr/local/lib/python3.6/dist-packages (from requests->torchtext) (1.24.3)\n",
            "Requirement already satisfied, skipping upgrade: chardet<4,>=3.0.2 in /usr/local/lib/python3.6/dist-packages (from requests->torchtext) (3.0.4)\n",
            "Requirement already satisfied, skipping upgrade: future in /usr/local/lib/python3.6/dist-packages (from torch->torchtext) (0.16.0)\n"
          ],
          "name": "stdout"
        }
      ]
    },
    {
      "cell_type": "code",
      "metadata": {
        "colab_type": "code",
        "id": "II-XIfhSkZS-",
        "colab": {}
      },
      "source": [
        "seed = 1234\n",
        "\n",
        "torch.manual_seed(seed)\n",
        "random.seed(seed)\n",
        "torch.backends.cudnn.deterministic = True\n",
        "torch.backends.cudnn.benchmark = False"
      ],
      "execution_count": 2,
      "outputs": []
    },
    {
      "cell_type": "code",
      "metadata": {
        "colab_type": "code",
        "id": "kIkeEy2mkcT6",
        "colab": {}
      },
      "source": [
        "raw_train_data, raw_test_data = torchtext.experimental.datasets.raw.IMDB()"
      ],
      "execution_count": 3,
      "outputs": []
    },
    {
      "cell_type": "code",
      "metadata": {
        "colab_type": "code",
        "id": "_a5ucP1ZkeDv",
        "colab": {}
      },
      "source": [
        "def get_train_valid_split(raw_train_data, split_ratio = 0.7):\n",
        "\n",
        "    raw_train_data = list(raw_train_data)\n",
        "        \n",
        "    random.shuffle(raw_train_data)\n",
        "        \n",
        "    n_train_examples = int(len(raw_train_data) * split_ratio)\n",
        "        \n",
        "    train_data = raw_train_data[:n_train_examples]\n",
        "    valid_data = raw_train_data[n_train_examples:]\n",
        "    \n",
        "    train_data = RawTextIterableDataset(train_data)\n",
        "    valid_data = RawTextIterableDataset(valid_data)\n",
        "    \n",
        "    return train_data, valid_data"
      ],
      "execution_count": 4,
      "outputs": []
    },
    {
      "cell_type": "code",
      "metadata": {
        "colab_type": "code",
        "id": "1WP4nz-_kf_0",
        "colab": {}
      },
      "source": [
        "raw_train_data, raw_valid_data = get_train_valid_split(raw_train_data)"
      ],
      "execution_count": 5,
      "outputs": []
    },
    {
      "cell_type": "code",
      "metadata": {
        "colab_type": "code",
        "id": "pPvrMZlWkicJ",
        "colab": {}
      },
      "source": [
        "class Tokenizer:\n",
        "    def __init__(self, tokenize_fn = 'basic_english', lower = True, max_length = None):\n",
        "        \n",
        "        self.tokenize_fn = torchtext.data.utils.get_tokenizer(tokenize_fn)\n",
        "        self.lower = lower\n",
        "        self.max_length = max_length\n",
        "        \n",
        "    def tokenize(self, s):\n",
        "        \n",
        "        tokens = self.tokenize_fn(s)\n",
        "        \n",
        "        if self.lower:\n",
        "            tokens = [token.lower() for token in tokens]\n",
        "            \n",
        "        if self.max_length is not None:\n",
        "            tokens = tokens[:max_length]\n",
        "            \n",
        "        return tokens"
      ],
      "execution_count": 6,
      "outputs": []
    },
    {
      "cell_type": "code",
      "metadata": {
        "colab_type": "code",
        "id": "SMsMQSuSkkt3",
        "colab": {}
      },
      "source": [
        "max_length = 500\n",
        "\n",
        "tokenizer = Tokenizer(max_length = max_length)"
      ],
      "execution_count": 7,
      "outputs": []
    },
    {
      "cell_type": "code",
      "metadata": {
        "colab_type": "code",
        "id": "Yie7TKWKkmeK",
        "colab": {}
      },
      "source": [
        "def build_vocab_from_data(raw_data, tokenizer, **vocab_kwargs):\n",
        "    \n",
        "    token_freqs = collections.Counter()\n",
        "    \n",
        "    for label, text in raw_data:\n",
        "        tokens = tokenizer.tokenize(text)\n",
        "        token_freqs.update(tokens)\n",
        "                \n",
        "    vocab = torchtext.vocab.Vocab(token_freqs, **vocab_kwargs)\n",
        "    \n",
        "    return vocab"
      ],
      "execution_count": 8,
      "outputs": []
    },
    {
      "cell_type": "code",
      "metadata": {
        "colab_type": "code",
        "id": "9jW7Ci7WkoSn",
        "colab": {}
      },
      "source": [
        "max_size = 25_000\n",
        "\n",
        "vocab = build_vocab_from_data(raw_train_data, tokenizer, max_size = max_size)"
      ],
      "execution_count": 9,
      "outputs": []
    },
    {
      "cell_type": "code",
      "metadata": {
        "colab_type": "code",
        "id": "cvSZt_iFkqkt",
        "colab": {}
      },
      "source": [
        "def process_raw_data(raw_data, tokenizer, vocab):\n",
        "    \n",
        "    raw_data = [(label, text) for (label, text) in raw_data]\n",
        "\n",
        "    text_transform = sequential_transforms(tokenizer.tokenize,\n",
        "                                           vocab_func(vocab),\n",
        "                                           totensor(dtype=torch.long))\n",
        "    \n",
        "    label_transform = sequential_transforms(totensor(dtype=torch.long))\n",
        "\n",
        "    transforms = (label_transform, text_transform)\n",
        "\n",
        "    dataset = TextClassificationDataset(raw_data,\n",
        "                                        vocab,\n",
        "                                        transforms)\n",
        "    \n",
        "    return dataset"
      ],
      "execution_count": 10,
      "outputs": []
    },
    {
      "cell_type": "code",
      "metadata": {
        "colab_type": "code",
        "id": "bwsSiBdkktRk",
        "colab": {}
      },
      "source": [
        "train_data = process_raw_data(raw_train_data, tokenizer, vocab)\n",
        "valid_data = process_raw_data(raw_valid_data, tokenizer, vocab)\n",
        "test_data = process_raw_data(raw_test_data, tokenizer, vocab)"
      ],
      "execution_count": 11,
      "outputs": []
    },
    {
      "cell_type": "code",
      "metadata": {
        "colab_type": "code",
        "id": "5m3xRusSk8v3",
        "colab": {}
      },
      "source": [
        "class Collator:\n",
        "    def __init__(self, pad_idx, batch_first):\n",
        "        \n",
        "        self.pad_idx = pad_idx\n",
        "        self.batch_first = batch_first\n",
        "        \n",
        "    def collate(self, batch):\n",
        "        \n",
        "        labels, text = zip(*batch)\n",
        "        \n",
        "        labels = torch.LongTensor(labels)\n",
        "\n",
        "        text = nn.utils.rnn.pad_sequence(text, \n",
        "                                         padding_value = self.pad_idx,\n",
        "                                         batch_first = self.batch_first)\n",
        "        \n",
        "        return labels, text"
      ],
      "execution_count": 12,
      "outputs": []
    },
    {
      "cell_type": "code",
      "metadata": {
        "colab_type": "code",
        "id": "1ZMuZqZxk8-p",
        "colab": {}
      },
      "source": [
        "pad_token = '<pad>'\n",
        "pad_idx = vocab[pad_token]\n",
        "batch_first = True\n",
        "\n",
        "collator = Collator(pad_idx, batch_first)"
      ],
      "execution_count": 13,
      "outputs": []
    },
    {
      "cell_type": "code",
      "metadata": {
        "colab_type": "code",
        "id": "mxG97Si9lAI2",
        "colab": {}
      },
      "source": [
        "batch_size = 256\n",
        "\n",
        "train_iterator = torch.utils.data.DataLoader(train_data, \n",
        "                                             batch_size, \n",
        "                                             shuffle = True, \n",
        "                                             collate_fn = collator.collate)\n",
        "\n",
        "valid_iterator = torch.utils.data.DataLoader(valid_data, \n",
        "                                             batch_size, \n",
        "                                             shuffle = False, \n",
        "                                             collate_fn = collator.collate)\n",
        "\n",
        "test_iterator = torch.utils.data.DataLoader(test_data, \n",
        "                                            batch_size, \n",
        "                                            shuffle = False, \n",
        "                                            collate_fn = collator.collate)"
      ],
      "execution_count": 14,
      "outputs": []
    },
    {
      "cell_type": "code",
      "metadata": {
        "colab_type": "code",
        "id": "ty3NbheMlPYs",
        "colab": {}
      },
      "source": [
        "class CNN(nn.Module):\n",
        "    def __init__(self, input_dim, emb_dim, n_filters, filter_sizes, output_dim, dropout, pad_idx):\n",
        "        super().__init__()\n",
        "\n",
        "        self.embedding = nn.Embedding(input_dim, emb_dim, padding_idx = pad_idx)\n",
        "        self.convs = nn.ModuleList([nn.Conv1d(in_channels = emb_dim,\n",
        "                                              out_channels = n_filters,\n",
        "                                              kernel_size = filter_size)\n",
        "                                    for filter_size in filter_sizes])\n",
        "        self.fc = nn.Linear(len(filter_sizes) * n_filters, output_dim)\n",
        "        self.dropout = nn.Dropout(dropout)\n",
        "\n",
        "    def forward(self, text):\n",
        "\n",
        "        # text = [batch size, seq len]\n",
        "\n",
        "        embedded = self.dropout(self.embedding(text))\n",
        "\n",
        "        # embedded = [batch size, seq len, emb dim]\n",
        "\n",
        "        embedded = embedded.permute(0, 2, 1)\n",
        "\n",
        "        # embedded = [batch size, emb dim, seq len]\n",
        "\n",
        "        conved = [F.relu(conv(embedded)) for conv in self.convs]\n",
        "\n",
        "        # conved[n] = [batch size, n filters, seq len - filter_sizes[n] + 1]\n",
        "\n",
        "        pooled = [F.max_pool1d(conv, conv.shape[-1]).squeeze(-1) for conv in conved]\n",
        "\n",
        "        # pooled[n] = [batch size, n filters]\n",
        "\n",
        "        cat = torch.cat(pooled, dim = -1)\n",
        "\n",
        "        # cat = [batch size, n filters * len(filter_sizes)]\n",
        "\n",
        "        prediction = self.fc(self.dropout(cat))\n",
        "\n",
        "        # prediction = [batch size, output dim]\n",
        "\n",
        "        return prediction"
      ],
      "execution_count": 15,
      "outputs": []
    },
    {
      "cell_type": "code",
      "metadata": {
        "colab_type": "code",
        "id": "trg6yTjBqOLZ",
        "colab": {}
      },
      "source": [
        "input_dim = len(vocab)\n",
        "emb_dim = 100\n",
        "n_filters = 100\n",
        "filter_sizes = [3, 4, 5]\n",
        "output_dim = 2\n",
        "dropout = 0.5\n",
        "pad_idx = pad_idx\n",
        "\n",
        "model = CNN(input_dim, emb_dim, n_filters, filter_sizes, output_dim, dropout, pad_idx)"
      ],
      "execution_count": 16,
      "outputs": []
    },
    {
      "cell_type": "code",
      "metadata": {
        "colab_type": "code",
        "id": "9dgdCRsqqQoD",
        "colab": {}
      },
      "source": [
        "def count_parameters(model):\n",
        "    return sum(p.numel() for p in model.parameters() if p.requires_grad)"
      ],
      "execution_count": 17,
      "outputs": []
    },
    {
      "cell_type": "code",
      "metadata": {
        "colab_type": "code",
        "id": "bfiGzjvnqV-s",
        "colab": {
          "base_uri": "https://localhost:8080/",
          "height": 35
        },
        "outputId": "fffbb2a6-0a0a-432f-f182-7697a6903c75"
      },
      "source": [
        "print(f'The model has {count_parameters(model):,} trainable parameters')"
      ],
      "execution_count": 18,
      "outputs": [
        {
          "output_type": "stream",
          "text": [
            "The model has 2,621,102 trainable parameters\n"
          ],
          "name": "stdout"
        }
      ]
    },
    {
      "cell_type": "code",
      "metadata": {
        "colab_type": "code",
        "id": "Sah17A41qW5d",
        "colab": {}
      },
      "source": [
        "glove = torchtext.experimental.vectors.GloVe(name = '6B',\n",
        "                                             dim = emb_dim)"
      ],
      "execution_count": 19,
      "outputs": []
    },
    {
      "cell_type": "code",
      "metadata": {
        "colab_type": "code",
        "id": "S1Dfcn2Nqabo",
        "colab": {}
      },
      "source": [
        "def get_pretrained_embedding(vectors, vocab, unk_token):\n",
        "    \n",
        "    unk_vector = vectors[unk_token]\n",
        "    emb_dim = unk_vector.shape[-1]\n",
        "    zero_vector = torch.zeros(emb_dim)\n",
        "\n",
        "    pretrained_embedding = torch.zeros(len(vocab), emb_dim) \n",
        "    \n",
        "    unk_tokens = []\n",
        "    \n",
        "    for idx, token in enumerate(vocab.itos):\n",
        "        pretrained_vector = vectors[token]\n",
        "        if torch.all(torch.eq(pretrained_vector, unk_vector)):\n",
        "            unk_tokens.append(token)\n",
        "            pretrained_embedding[idx] = zero_vector\n",
        "        else:\n",
        "            pretrained_embedding[idx] = pretrained_vector\n",
        "        \n",
        "    return pretrained_embedding, unk_tokens"
      ],
      "execution_count": 20,
      "outputs": []
    },
    {
      "cell_type": "code",
      "metadata": {
        "colab_type": "code",
        "id": "sGyV94f7qvdr",
        "colab": {}
      },
      "source": [
        "unk_token = '<unk>'\n",
        "\n",
        "pretrained_embedding, unk_tokens = get_pretrained_embedding(glove.vectors, vocab, unk_token)"
      ],
      "execution_count": 21,
      "outputs": []
    },
    {
      "cell_type": "code",
      "metadata": {
        "colab_type": "code",
        "id": "KYnGxbVisUsk",
        "colab": {
          "base_uri": "https://localhost:8080/",
          "height": 139
        },
        "outputId": "39d1354c-9a3a-4a6e-bf4a-8595d7f4eac9"
      },
      "source": [
        "model.embedding.weight.data.copy_(pretrained_embedding)"
      ],
      "execution_count": 22,
      "outputs": [
        {
          "output_type": "execute_result",
          "data": {
            "text/plain": [
              "tensor([[ 0.0000,  0.0000,  0.0000,  ...,  0.0000,  0.0000,  0.0000],\n",
              "        [ 0.0000,  0.0000,  0.0000,  ...,  0.0000,  0.0000,  0.0000],\n",
              "        [-0.0382, -0.2449,  0.7281,  ..., -0.1459,  0.8278,  0.2706],\n",
              "        ...,\n",
              "        [-0.2925,  0.1087,  0.7920,  ..., -0.3641,  0.1822, -0.4104],\n",
              "        [-0.7250,  0.7545,  0.1637,  ..., -0.0144, -0.1761,  0.3418],\n",
              "        [ 1.1753,  0.0460, -0.3542,  ...,  0.4510,  0.0485, -0.4015]])"
            ]
          },
          "metadata": {
            "tags": []
          },
          "execution_count": 22
        }
      ]
    },
    {
      "cell_type": "code",
      "metadata": {
        "colab_type": "code",
        "id": "DTwNU41WseMS",
        "colab": {}
      },
      "source": [
        "optimizer = optim.Adam(model.parameters())"
      ],
      "execution_count": 23,
      "outputs": []
    },
    {
      "cell_type": "code",
      "metadata": {
        "colab_type": "code",
        "id": "Rxlx7a72s1ze",
        "colab": {}
      },
      "source": [
        "criterion = nn.CrossEntropyLoss()"
      ],
      "execution_count": 24,
      "outputs": []
    },
    {
      "cell_type": "code",
      "metadata": {
        "colab_type": "code",
        "id": "1CLimBxus2yX",
        "colab": {}
      },
      "source": [
        "device = torch.device('cuda' if torch.cuda.is_available() else 'cpu')"
      ],
      "execution_count": 25,
      "outputs": []
    },
    {
      "cell_type": "code",
      "metadata": {
        "colab_type": "code",
        "id": "108fm55ftBgO",
        "colab": {}
      },
      "source": [
        "model = model.to(device)\n",
        "criterion = criterion.to(device)"
      ],
      "execution_count": 26,
      "outputs": []
    },
    {
      "cell_type": "code",
      "metadata": {
        "colab_type": "code",
        "id": "IYCxbvXUvE5v",
        "colab": {}
      },
      "source": [
        "def calculate_accuracy(predictions, labels):\n",
        "    top_predictions = predictions.argmax(1, keepdim = True)\n",
        "    correct = top_predictions.eq(labels.view_as(top_predictions)).sum()\n",
        "    accuracy = correct.float() / labels.shape[0]\n",
        "    return accuracy"
      ],
      "execution_count": 27,
      "outputs": []
    },
    {
      "cell_type": "code",
      "metadata": {
        "colab_type": "code",
        "id": "Ik2JQo6TvGml",
        "colab": {}
      },
      "source": [
        "def train(model, iterator, optimizer, criterion, device):\n",
        "    \n",
        "    epoch_loss = 0\n",
        "    epoch_acc = 0\n",
        "    \n",
        "    model.train()\n",
        "    \n",
        "    for labels, text in iterator:\n",
        "        \n",
        "        labels = labels.to(device)\n",
        "        text = text.to(device)\n",
        "\n",
        "        optimizer.zero_grad()\n",
        "        \n",
        "        predictions = model(text)\n",
        "        \n",
        "        loss = criterion(predictions, labels)\n",
        "        \n",
        "        acc = calculate_accuracy(predictions, labels)\n",
        "        \n",
        "        loss.backward()\n",
        "        \n",
        "        optimizer.step()\n",
        "        \n",
        "        epoch_loss += loss.item()\n",
        "        epoch_acc += acc.item()\n",
        "\n",
        "    return epoch_loss / len(iterator), epoch_acc / len(iterator)"
      ],
      "execution_count": 28,
      "outputs": []
    },
    {
      "cell_type": "code",
      "metadata": {
        "colab_type": "code",
        "id": "aGy1Zk6jvIf8",
        "colab": {}
      },
      "source": [
        "def evaluate(model, iterator, criterion, device):\n",
        "    \n",
        "    epoch_loss = 0\n",
        "    epoch_acc = 0\n",
        "    \n",
        "    model.eval()\n",
        "    \n",
        "    with torch.no_grad():\n",
        "    \n",
        "        for labels, text in iterator:\n",
        "\n",
        "            labels = labels.to(device)\n",
        "            text = text.to(device)\n",
        "            \n",
        "            predictions = model(text)\n",
        "            \n",
        "            loss = criterion(predictions, labels)\n",
        "            \n",
        "            acc = calculate_accuracy(predictions, labels)\n",
        "\n",
        "            epoch_loss += loss.item()\n",
        "            epoch_acc += acc.item()\n",
        "        \n",
        "    return epoch_loss / len(iterator), epoch_acc / len(iterator)"
      ],
      "execution_count": 29,
      "outputs": []
    },
    {
      "cell_type": "code",
      "metadata": {
        "colab_type": "code",
        "id": "9MyMRRzbvKPx",
        "colab": {}
      },
      "source": [
        "def epoch_time(start_time, end_time):\n",
        "    elapsed_time = end_time - start_time\n",
        "    elapsed_mins = int(elapsed_time / 60)\n",
        "    elapsed_secs = int(elapsed_time - (elapsed_mins * 60))\n",
        "    return elapsed_mins, elapsed_secs"
      ],
      "execution_count": 30,
      "outputs": []
    },
    {
      "cell_type": "code",
      "metadata": {
        "colab_type": "code",
        "id": "dRKwD51WvMa3",
        "colab": {
          "base_uri": "https://localhost:8080/",
          "height": 537
        },
        "outputId": "935b7d4b-c396-42d8-8041-802ec9575cd6"
      },
      "source": [
        "n_epochs = 10\n",
        "\n",
        "best_valid_loss = float('inf')\n",
        "\n",
        "for epoch in range(n_epochs):\n",
        "\n",
        "    start_time = time.monotonic()\n",
        "    \n",
        "    train_loss, train_acc = train(model, train_iterator, optimizer, criterion, device)\n",
        "    valid_loss, valid_acc = evaluate(model, valid_iterator, criterion, device)\n",
        "    \n",
        "    end_time = time.monotonic()\n",
        "\n",
        "    epoch_mins, epoch_secs = epoch_time(start_time, end_time)\n",
        "    \n",
        "    if valid_loss < best_valid_loss:\n",
        "        best_valid_loss = valid_loss\n",
        "        torch.save(model.state_dict(), 'cnn-model.pt')\n",
        "    \n",
        "    print(f'Epoch: {epoch+1:02} | Epoch Time: {epoch_mins}m {epoch_secs}s')\n",
        "    print(f'\\tTrain Loss: {train_loss:.3f} | Train Acc: {train_acc*100:.2f}%')\n",
        "    print(f'\\t Val. Loss: {valid_loss:.3f} |  Val. Acc: {valid_acc*100:.2f}%')"
      ],
      "execution_count": 31,
      "outputs": [
        {
          "output_type": "stream",
          "text": [
            "Epoch: 01 | Epoch Time: 0m 15s\n",
            "\tTrain Loss: 0.709 | Train Acc: 55.76%\n",
            "\t Val. Loss: 0.613 |  Val. Acc: 68.58%\n",
            "Epoch: 02 | Epoch Time: 0m 15s\n",
            "\tTrain Loss: 0.587 | Train Acc: 68.97%\n",
            "\t Val. Loss: 0.472 |  Val. Acc: 80.37%\n",
            "Epoch: 03 | Epoch Time: 0m 15s\n",
            "\tTrain Loss: 0.451 | Train Acc: 79.39%\n",
            "\t Val. Loss: 0.380 |  Val. Acc: 84.07%\n",
            "Epoch: 04 | Epoch Time: 0m 15s\n",
            "\tTrain Loss: 0.385 | Train Acc: 82.99%\n",
            "\t Val. Loss: 0.347 |  Val. Acc: 85.47%\n",
            "Epoch: 05 | Epoch Time: 0m 15s\n",
            "\tTrain Loss: 0.345 | Train Acc: 85.26%\n",
            "\t Val. Loss: 0.325 |  Val. Acc: 86.29%\n",
            "Epoch: 06 | Epoch Time: 0m 15s\n",
            "\tTrain Loss: 0.314 | Train Acc: 86.58%\n",
            "\t Val. Loss: 0.313 |  Val. Acc: 87.01%\n",
            "Epoch: 07 | Epoch Time: 0m 15s\n",
            "\tTrain Loss: 0.290 | Train Acc: 87.99%\n",
            "\t Val. Loss: 0.302 |  Val. Acc: 87.80%\n",
            "Epoch: 08 | Epoch Time: 0m 15s\n",
            "\tTrain Loss: 0.261 | Train Acc: 89.20%\n",
            "\t Val. Loss: 0.297 |  Val. Acc: 88.25%\n",
            "Epoch: 09 | Epoch Time: 0m 15s\n",
            "\tTrain Loss: 0.246 | Train Acc: 89.90%\n",
            "\t Val. Loss: 0.290 |  Val. Acc: 88.24%\n",
            "Epoch: 10 | Epoch Time: 0m 15s\n",
            "\tTrain Loss: 0.221 | Train Acc: 90.89%\n",
            "\t Val. Loss: 0.287 |  Val. Acc: 88.29%\n"
          ],
          "name": "stdout"
        }
      ]
    },
    {
      "cell_type": "code",
      "metadata": {
        "colab_type": "code",
        "id": "hKOg4oARvPHJ",
        "colab": {
          "base_uri": "https://localhost:8080/",
          "height": 35
        },
        "outputId": "b5552b10-fcca-4c29-8d4b-4f5688ef53dd"
      },
      "source": [
        "model.load_state_dict(torch.load('cnn-model.pt'))\n",
        "\n",
        "test_loss, test_acc = evaluate(model, test_iterator, criterion, device)\n",
        "\n",
        "print(f'Test Loss: {test_loss:.3f} | Test Acc: {test_acc*100:.2f}%')"
      ],
      "execution_count": 32,
      "outputs": [
        {
          "output_type": "stream",
          "text": [
            "Test Loss: 0.292 | Test Acc: 87.92%\n"
          ],
          "name": "stdout"
        }
      ]
    },
    {
      "cell_type": "code",
      "metadata": {
        "colab_type": "code",
        "id": "tQ4Jsf_vvWgB",
        "colab": {}
      },
      "source": [
        "def predict_sentiment(tokenizer, vocab, model, device, sentence):\n",
        "    model.eval()\n",
        "    tokens = tokenizer.tokenize(sentence)\n",
        "    indexes = [vocab.stoi[token] for token in tokens]\n",
        "    tensor = torch.LongTensor(indexes).unsqueeze(0).to(device)\n",
        "    prediction = model(tensor)\n",
        "    probabilities = nn.functional.softmax(prediction, dim = -1)\n",
        "    pos_probability = probabilities.squeeze()[-1].item()\n",
        "    return pos_probability"
      ],
      "execution_count": 33,
      "outputs": []
    },
    {
      "cell_type": "code",
      "metadata": {
        "colab_type": "code",
        "id": "Yy7_6rhovZTE",
        "colab": {
          "base_uri": "https://localhost:8080/",
          "height": 35
        },
        "outputId": "4297c903-8ef3-4c94-8a9e-21fbb98a6be9"
      },
      "source": [
        "sentence = 'the absolute worst movie of all time.'\n",
        "\n",
        "predict_sentiment(tokenizer, vocab, model, device, sentence)"
      ],
      "execution_count": 34,
      "outputs": [
        {
          "output_type": "execute_result",
          "data": {
            "text/plain": [
              "0.030210591852664948"
            ]
          },
          "metadata": {
            "tags": []
          },
          "execution_count": 34
        }
      ]
    },
    {
      "cell_type": "code",
      "metadata": {
        "colab_type": "code",
        "id": "L3LmQxrgvau9",
        "colab": {
          "base_uri": "https://localhost:8080/",
          "height": 35
        },
        "outputId": "afee78c4-6c74-4900-dd3b-53ad1c1b7b26"
      },
      "source": [
        "sentence = 'one of the greatest films i have ever seen in my life.'\n",
        "\n",
        "predict_sentiment(tokenizer, vocab, model, device, sentence)"
      ],
      "execution_count": 35,
      "outputs": [
        {
          "output_type": "execute_result",
          "data": {
            "text/plain": [
              "0.6977774500846863"
            ]
          },
          "metadata": {
            "tags": []
          },
          "execution_count": 35
        }
      ]
    },
    {
      "cell_type": "code",
      "metadata": {
        "colab_type": "code",
        "id": "t7Qoy21Bvb7v",
        "colab": {
          "base_uri": "https://localhost:8080/",
          "height": 35
        },
        "outputId": "d85a8a1b-b4dc-4aea-e58e-2597087b46c2"
      },
      "source": [
        "sentence = \"i thought it was going to be one of the greatest films i have ever seen in my life, \\\n",
        "but it was actually the absolute worst movie of all time.\"\n",
        "\n",
        "predict_sentiment(tokenizer, vocab, model, device, sentence)"
      ],
      "execution_count": 36,
      "outputs": [
        {
          "output_type": "execute_result",
          "data": {
            "text/plain": [
              "0.05038118362426758"
            ]
          },
          "metadata": {
            "tags": []
          },
          "execution_count": 36
        }
      ]
    },
    {
      "cell_type": "code",
      "metadata": {
        "colab_type": "code",
        "id": "EPGXBr18vdQT",
        "colab": {
          "base_uri": "https://localhost:8080/",
          "height": 35
        },
        "outputId": "1b28c7d1-9e12-462f-d9ac-2b4876b3b6b4"
      },
      "source": [
        "sentence = \"i thought it was going to be the absolute worst movie of all time, \\\n",
        "but it was actually one of the greatest films i have ever seen in my life.\"\n",
        "\n",
        "predict_sentiment(tokenizer, vocab, model, device, sentence)"
      ],
      "execution_count": 37,
      "outputs": [
        {
          "output_type": "execute_result",
          "data": {
            "text/plain": [
              "0.05422605946660042"
            ]
          },
          "metadata": {
            "tags": []
          },
          "execution_count": 37
        }
      ]
    }
  ]
}